{
 "cells": [
  {
   "cell_type": "code",
   "execution_count": 23,
   "metadata": {},
   "outputs": [
    {
     "name": "stdout",
     "output_type": "stream",
     "text": [
      "3.14132\n"
     ]
    }
   ],
   "source": [
    "import random as r\n",
    "import math as m\n",
    "\n",
    "# Número de datos que estan dentro del circulo\n",
    "dentro = 0\n",
    "# Número de datos a probar\n",
    "total = 100000\n",
    "\n",
    "# Iteración para la cantidad de datos\n",
    "for i in range(0, total):\n",
    "  # Genera random x, y entre [0, 1].\n",
    "    x2 = r.random()**2\n",
    "    y2 = r.random()**2\n",
    "    # inside Incrementa si el dato se encuentra dentro del círculo\n",
    "    if m.sqrt(x2 + y2) < 1.0:\n",
    "        dentro += 1\n",
    "\n",
    "# inside / total = pi / 4.\n",
    "# float hace dentro como un número de punto flotante ej: 2.0, Python convierte los demás datos en punto flotante\n",
    "pi = (float(dentro) / total) * 4\n",
    "\n",
    "# Calcular Pi\n",
    "print(pi)"
   ]
  },
  {
   "cell_type": "code",
   "execution_count": null,
   "metadata": {},
   "outputs": [],
   "source": []
  }
 ],
 "metadata": {
  "kernelspec": {
   "display_name": "Python 3.6",
   "language": "python",
   "name": "python36"
  },
  "language_info": {
   "codemirror_mode": {
    "name": "ipython",
    "version": 3
   },
   "file_extension": ".py",
   "mimetype": "text/x-python",
   "name": "python",
   "nbconvert_exporter": "python",
   "pygments_lexer": "ipython3",
   "version": "3.6.3"
  }
 },
 "nbformat": 4,
 "nbformat_minor": 2
}
