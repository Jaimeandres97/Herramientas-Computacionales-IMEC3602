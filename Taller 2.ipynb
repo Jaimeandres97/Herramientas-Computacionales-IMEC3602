{
 "cells": [
  {
   "cell_type": "code",
   "execution_count": 1,
   "metadata": {},
   "outputs": [
    {
     "name": "stdout",
     "output_type": "stream",
     "text": [
      "Populating the interactive namespace from numpy and matplotlib\n"
     ]
    }
   ],
   "source": [
    "%pylab inline\n",
    "import scipy.integrate as spi"
   ]
  },
  {
   "cell_type": "code",
   "execution_count": 2,
   "metadata": {},
   "outputs": [],
   "source": [
    "# Datos Llantas tractivas \n",
    "rll=0.139 # Radio geométrico de las llantas en traseras (m)\n",
    "r=0.98*rll # Radio efectivo llantas traseras (m)\n",
    "rin=0.0631 #radio interno del neumático (m)\n",
    "\n",
    "dll=0.975 # Distancia entre ejes de llantas delanteras (m)\n",
    "alj=0.88 # Altura con el piloto sentado en el kart (estatura 1.68 m) (m)\n",
    "rho=1.1955 # densidad del aire (kg/m^3)\n",
    "af=(dll*alj)/2 # Area Frontal Kart (m^2)\n",
    "cd=0.89 # Coeficiente de Arrastre Kart\n",
    "vw=0.0 # velocidad del viento (m/s)\n",
    "theta=0.0 # Angulo carretera\n",
    "g=9.81 # Gravedad (m/s)\n",
    "\n",
    "# Datos Transmisión\n",
    "dp=11.0 # Dientes del piñon\n",
    "dpl=39.0 # Dientes del plato\n",
    "Nc=dpl/dp # Relación de Transmisión\n",
    "ef=0.95 # Eficiencia de transmisión\n",
    "\n",
    "# Datos eje llantas\n",
    "reje=0.02 # Radio eje de las llantas (m)\n",
    "meje=3.832 # Masa del eje (kg)\n",
    "\n",
    "# Datos Kart general\n",
    "masa=152.0 # masa del Kart (kg)\n",
    "g=9.81 # Gravedad (m/s)\n",
    "w=masa*g # peso del Kart (N)\n",
    "m = masa\n",
    "\n",
    "# Datos Inercias\n",
    "Ie=5.2E-3 # Inercia motor de combustión (kg m^2) \n",
    "\n",
    "rpi=0.01525#(m)\n",
    "rpla=0.04096 #(m)\n",
    "rhoac=7850.0 # Densidad del Acero (kg/m^3)\n",
    "bpi=0.01 # Ancho piñon (m)\n",
    "bpla=0.02 # Ancho plato (m)\n",
    "vpi= bpi*np.pi*rpi**2 # Volumen del piñon (m^3)\n",
    "vpla=bpla*np.pi*rpla**2 # Volumen del plato (m^3)\n",
    "mpi=rhoac*vpi # Masa del piñon (kg)\n",
    "mpla=rhoac*vpla # Masa del plato (kg)\n",
    "mllt=1.43 # Masa llantas traseras (kg)\n",
    "mlld=1.20 # Masa llantas delanteras (kg)\n",
    "rlld=0.129 # Radio llantas delanteras (m)\n",
    "rind=0.0631 # Radio rin llantas delanteras (m)\n",
    "mbt=0.7*mllt # El porcentaje de la masa total que pesa la parte \"banda\" de la llanta trasera\n",
    "mdt=0.3*mllt # El porcentaje de la masa total que pesa la parte \"disco\" de la llanta trasera\n",
    "mbd=0.7*mlld # El porcentaje de la masa total que pesa la parte \"banda\" de la llanta delantera\n",
    "mdd=0.3*mlld # El porcentaje de la masa total que pesa la parte \"disco\" de la llanta delantera\n",
    "illd=(mbd*rlld)+(mdd*(rlld**2-rind**2))/2 # Inercia 1 llanta delantera (kg-m^2)\n",
    "illt=(mbt*rll)+(mdt*(rll**2-rin**2))/2 # Inercia 1 llanta trasera (kg-m^2)\n",
    "ig=((mpi*(rpi**2))/2.0)+((mpla*(rpla**2))/2.0) # Inercia de la transmisión (kg-m^2)\n",
    "ieje=(meje*reje**2)/2.0 # Inercia del eje de las llantas (kg-m^2)\n",
    "\n",
    "\n",
    "Iw = illd + illt\n",
    "Id = ig + ieje"
   ]
  },
  {
   "cell_type": "code",
   "execution_count": 3,
   "metadata": {},
   "outputs": [],
   "source": [
    "# Condiciones iniciales\n",
    "t_0=0\n",
    "t_fin=10\n",
    "t=np.linspace(t_0,t_fin,1000)\n",
    "v_0=0.1\n",
    "c_ini = [t_0,v_0] "
   ]
  },
  {
   "cell_type": "markdown",
   "metadata": {},
   "source": [
    "## Definición de fuerzas"
   ]
  },
  {
   "cell_type": "code",
   "execution_count": 4,
   "metadata": {},
   "outputs": [],
   "source": [
    "def frodadura(vx,w):\n",
    "    fr=0.01*(1+((vx/0.277778/100.0))) # Factor de rodadura la velocidad del kart debe estar en (km/h)\n",
    "    return w*fr # (N)\n",
    "def farrastre(vx):\n",
    "    return (1.0/2.0)*rho*af*cd*(vx+vw)**2 # (N)\n",
    "def torqueMotor(vx,r_eje,Nc):\n",
    "    omega = (vx/r_eje)*Nc\n",
    "    if(omega>5000):\n",
    "        omega=5000\n",
    "    rpm=omega*30/(np.pi)\n",
    "    P=3.037*((-0.00000004564538677*rpm**3)+(0.0001056995459*rpm**2)+(1.53209191*rpm)-1.895523696)\n",
    "    T=P/(rpm*2*np.pi/60)\n",
    "    if(T>5.42):\n",
    "        T=5.42\n",
    "    return T\n",
    "def Mr(T):\n",
    "    mr=((Iw+Id)+Ie*Nc**2)/r**2\n",
    "    return mr\n",
    "def ax (velv,t0):\n",
    "    xx,vel = velv \n",
    "    frod = frodadura(vel,w)\n",
    "    fdrag = farrastre(vel)\n",
    "    T = torqueMotor(vel,r,Nc)\n",
    "    mr = Mr(T)\n",
    "    ax = ((T*Nc*ef/r)-frod-fdrag)/(mr+m)\n",
    "    y= vel,ax\n",
    "    return y\n",
    "def abr (velv,t0):\n",
    "    xx,vel = velv\n",
    "    fbr = (-20.5*ef*Nc)/r\n",
    "    frod = frodadura(vel,w)\n",
    "    fdrag = farrastre(vel)\n",
    "    T = torqueMotor(vel,r,Nc)\n",
    "    mr = Mr(T)\n",
    "    abr = (fbr-frod-fdrag)/(mr+m)\n",
    "    y = vel,abr\n",
    "    return y\n",
    "def acel(ax):\n",
    "    t_a0 = 0.1  \n",
    "    t_a = np.linspace(t_0,t_fin,1000) \n",
    "    sol_ax = spi.odeint(ax, c_ini, t_a) \n",
    "    vel = sol_ax[:,1]\n",
    "    pos = sol_ax[:,0] \n",
    "    diff = vel[-1]-vel[len(vel)-2] \n",
    "    t_ai = t_fin\n",
    "    while diff > 0.004: \n",
    "        t_ai = t_fin + 1 \n",
    "        t_a = np.linspace(t_a0,t_ai,1000) \n",
    "        sol_ax = spi.odeint(ax, c_ini, t_a) \n",
    "        vel = sol_ax[:,1] \n",
    "        pos = sol_ax[:,0] \n",
    "        diff = vel[-1]-vel[len(vel)-2] \n",
    "    acel = np.gradient(vel)*100\n",
    "    return (t_a,pos,vel,acel,t_ai)\n",
    "def brake(abr,t_a,vel,pos,acel,t_ai):\n",
    "    v_max = vel[-1] \n",
    "    x_1 = pos[-1] \n",
    "    c_fr = [x_1,v_max]\n",
    "    t_a1 = t_ai\n",
    "    t_a2 = t_a1 + 0.5 \n",
    "    t_br = np.linspace(t_a1,t_a2,100) \n",
    "    sol_br = spi.odeint(abr, c_fr, t_br) \n",
    "    v_br = sol_br[:,1]\n",
    "    x_br = sol_br[:,0] \n",
    "\n",
    "    while v_br[-1] > 0.1: \n",
    "        t_a2 = t_a2 + 0.5 \n",
    "        t_br = np.linspace(t_a1,t_a2,100) \n",
    "        sol_br = spi.odeint(abr, c_fr, t_br) \n",
    "        v_br = sol_br[:,1] \n",
    "        x_br = sol_br[:,0] \n",
    "    acelbr =np.gradient(v_br)*100\n",
    "    t = np.concatenate((t_a,t_br))\n",
    "    x = np.concatenate((pos,x_br))\n",
    "    v = np.concatenate((vel,v_br))\n",
    "    a = np.concatenate((acel,acelbr))\n",
    "    return (t,x,v,a)"
   ]
  },
  {
   "cell_type": "code",
   "execution_count": null,
   "metadata": {},
   "outputs": [],
   "source": [
    "soln1m1= spi.odeint(ax,c_ini,t)\n",
    "an1m1= acel(ax)\n",
    "brn1m1= brake(abr,an1m1[0],an1m1[1],an1m1[2],an1m1[3],an1m1[-1])"
   ]
  },
  {
   "cell_type": "code",
   "execution_count": null,
   "metadata": {},
   "outputs": [],
   "source": [
    "soln1m2= spi.odeint(ax,c_ini,t)\n",
    "an1m2= acel(ax)\n",
    "brn1m2= brake(abr,an1m2[0],an1m2[1],an1m2[2],an1m2[3],an1m2[-1])"
   ]
  },
  {
   "cell_type": "code",
   "execution_count": null,
   "metadata": {},
   "outputs": [],
   "source": [
    "soln1m3= spi.odeint(ax,c_ini,t)\n",
    "an1m3= acel(ax)\n",
    "brn1m3= brake(abr,an1m3[0],an1m3[1],an1m3[2],an1m3[3],an1m3[-1])"
   ]
  },
  {
   "cell_type": "code",
   "execution_count": null,
   "metadata": {},
   "outputs": [],
   "source": [
    "soln2m1= spi.odeint(ax,c_ini,t)\n",
    "an2m1= acel(ax)\n",
    "brn2m1= brake(abr,an2m1[0],an2m1[1],an2m1[2],an2m1[3],an2m1[-1])"
   ]
  },
  {
   "cell_type": "code",
   "execution_count": null,
   "metadata": {},
   "outputs": [],
   "source": [
    "soln2m2= spi.odeint(ax,c_ini,t)\n",
    "an2m2= acel(ax)\n",
    "brn2m2= brake(abr,an2m2[0],an2m2[1],an2m2[2],an2m2[3],an2m2[-1])"
   ]
  },
  {
   "cell_type": "code",
   "execution_count": null,
   "metadata": {},
   "outputs": [],
   "source": [
    "soln2m3= spi.odeint(ax,c_ini,t)\n",
    "an2m3= acel(ax)\n",
    "brn2m3= brake(abr,an2m3[0],an2m3[1],an2m3[2],an2m3[3],an2m3[-1])"
   ]
  },
  {
   "cell_type": "code",
   "execution_count": null,
   "metadata": {},
   "outputs": [],
   "source": [
    "soln3m1= spi.odeint(ax,c_ini,t)\n",
    "an3m1= acel(ax)\n",
    "brn3m1= brake(abr,an3m1[0],an3m1[1],an3m1[2],an3m1[3],an3m1[-1])"
   ]
  },
  {
   "cell_type": "code",
   "execution_count": null,
   "metadata": {},
   "outputs": [],
   "source": [
    "soln3m2= spi.odeint(ax,c_ini,t)\n",
    "an3m2= acel(ax)\n",
    "brn3m2= brake(abr,an3m2[0],an3m2[1],an3m2[2],an3m2[3],an3m2[-1])"
   ]
  },
  {
   "cell_type": "code",
   "execution_count": null,
   "metadata": {},
   "outputs": [],
   "source": [
    "soln3m3= spi.odeint(ax,c_ini,t)\n",
    "an3m3= acel(ax)\n",
    "brn3m3= brake(abr,an3m3[0],an3m3[1],an3m3[2],an3m3[3],an3m3[-1])"
   ]
  },
  {
   "cell_type": "code",
   "execution_count": null,
   "metadata": {},
   "outputs": [],
   "source": [
    "plt.plot(brn1m1[0],brn1m1[2],label='100 kg')\n",
    "plt.plot(brn1m2[0],brn1m2[2],label='152 kg')\n",
    "plt.plot(brn1m3[0],brn1m3[2],label='200 kg')\n",
    "plt.xlabel('Tiempo [s]')\n",
    "plt.ylabel('Velocidad [m/s]')\n",
    "plt.title('V vs T')\n",
    "plt.grid()\n",
    "plt.legend(loc='best')\n",
    "plt.show()"
   ]
  },
  {
   "cell_type": "code",
   "execution_count": null,
   "metadata": {},
   "outputs": [],
   "source": []
  }
 ],
 "metadata": {
  "kernelspec": {
   "display_name": "Python 3.6",
   "language": "python",
   "name": "python36"
  },
  "language_info": {
   "codemirror_mode": {
    "name": "ipython",
    "version": 3
   },
   "file_extension": ".py",
   "mimetype": "text/x-python",
   "name": "python",
   "nbconvert_exporter": "python",
   "pygments_lexer": "ipython3",
   "version": "3.6.3"
  }
 },
 "nbformat": 4,
 "nbformat_minor": 2
}
